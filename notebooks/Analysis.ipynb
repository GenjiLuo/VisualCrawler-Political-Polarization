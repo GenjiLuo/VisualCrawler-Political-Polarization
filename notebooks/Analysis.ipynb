{
 "cells": [
  {
   "cell_type": "markdown",
   "metadata": {
    "collapsed": true,
    "pycharm": {
     "is_executing": false
    }
   },
   "source": [
    "## Research Lab: Political Polarization  - Visual Crawler Team\n",
    "\n",
    "> Our task is to create an expert Twitter Crawler that monitors tweets to find posts that have images with matching faces of certain predefined politicians and then to grab replies to that tweet in order to find out how much hate that politician reveive within the Twitter. These results can then result in an index to show how popular or infamous a politician is on socail media.\n",
    "\n",
    "\n",
    "Our base data set consists of 4 World Powers ( Mr Donald Trump, Mr Valdimir Putin, Mrs. Angela Merkel and Mr Bouris Johnson). We have 3 images of each and each tweet that includes images will be checked against all the photos.\n",
    "\n",
    "We use a mixture of different techniques to take advantage of Tweeter API. On average, 10 percent of the collected tweets have images. Out of these, usually 2.1 percent are original tweets (from the news channels amd not re-tweets) and have detectable images of our politicians dataset. For these tweets we use a second api called TWARC to just grab related replies. This process is very slow and requires more access keys and process power to work for larger scales. Last but not least, all the replies will be checked to see any cases hate speech is occuring. We have found out that there is at least 5.3 percent of hate speech involved in the politicians' tweets which we call observable hate since it is the amount a machine learning algorithm can detect.\n"
   ]
  },
  {
   "cell_type": "code",
   "execution_count": 1,
   "metadata": {
    "pycharm": {
     "is_executing": false
    }
   },
   "outputs": [],
   "source": [
    "import os\n",
    "import sys\n",
    "import pandas as pd\n",
    "import yaml\n",
    "import matplotlib.pyplot as plt\n",
    "\n",
    "parameters = {}\n",
    "with open(\"../parameters.yml\", 'r') as stream:\n",
    "    try:\n",
    "        parameters = yaml.safe_load(stream)\n",
    "    except yaml.YAMLError as exc:\n",
    "        print(exc)\n",
    "\n",
    "csvFile = '../src/data/processed/' + parameters['parsed_file']\n",
    "tweets = pd.read_csv(csvFile, sep=',')\n",
    "\n",
    "\n",
    "repliesCsvFile = '../src/data/processed/' + parameters['reply_file']\n",
    "replies = pd.read_csv(repliesCsvFile, sep=',')\n",
    "\n",
    "dataCsvFile = '../src/data/classes/' + parameters['class_name'] + '/' + 'index.csv'\n",
    "data = pd.read_csv(dataCsvFile, sep='\\t')\n",
    "data = data.append({'name': 'other', 'token': 'other', 'tags': ''}, ignore_index=True)"
   ]
  },
  {
   "cell_type": "markdown",
   "metadata": {},
   "source": [
    "### A- Comparing hate received by each politician:"
   ]
  },
  {
   "cell_type": "code",
   "execution_count": 2,
   "metadata": {},
   "outputs": [],
   "source": [
    "data['tweets'] = 0\n",
    "data['replies'] = 0\n",
    "data['auto_hate'] = 0 # requires better algorithms\n",
    "data['ah_ratio'] = 0\n",
    "data['hate_ratio'] = 0\n",
    "data['manual_hate'] = 0 # waiting for manual data\n",
    "\n",
    "\n",
    "for index, element in tweets.iterrows():\n",
    "    vote = str(element['vote'])\n",
    "    found = []\n",
    "    if 'nan' == vote:\n",
    "        continue\n",
    "    if '0.0' != vote: \n",
    "        # detected politicians:\n",
    "        politicians = element['matches'].split(\"####\")\n",
    "        for politician in politicians:\n",
    "            for position, datum in data.iterrows():\n",
    "                if politician.startswith(datum['token']):\n",
    "                    if politician in found:\n",
    "                        continue\n",
    "                    data.loc[position, 'tweets'] = data.loc[position, 'tweets'] + 1\n",
    "                    found.append(politician)\n",
    "                    # check replies\n",
    "                    tempest_replies = replies.loc[replies['tweet_id'] == element['tweet_id']]\n",
    "                    data.loc[position, 'replies'] = data.loc[position, 'replies'] + len(tempest_replies)\n",
    "                    # check hates\n",
    "                    tempest_hate = tempest_replies.loc[tempest_replies['automatic'] == 1]\n",
    "                    data.loc[position, 'auto_hate'] = data.loc[position, 'auto_hate'] + len(tempest_hate)\n",
    "                    \n",
    "                    break\n",
    "    if [] == found:\n",
    "        last = len(data)-1\n",
    "        data.loc[last, 'tweets'] = data.loc[last, 'tweets'] + 1"
   ]
  },
  {
   "cell_type": "markdown",
   "metadata": {},
   "source": [
    "### Snapshot of received hate:\n",
    "\n",
    "To what extent replies of a politician a hate messages"
   ]
  },
  {
   "cell_type": "code",
   "execution_count": 3,
   "metadata": {},
   "outputs": [
    {
     "data": {
      "image/png": "[encoded data removed]",
      "text/plain": [
       "<Figure size 576x504 with 1 Axes>"
      ]
     },
     "metadata": {
      "needs_background": "light"
     },
     "output_type": "display_data"
    }
   ],
   "source": [
    "for position, datum in data.iterrows():\n",
    "    if 0 == datum['replies']:\n",
    "        data.loc[position, 'ah_ratio'] = 0\n",
    "    else:\n",
    "        data.loc[position, 'ah_ratio'] = (datum['auto_hate']/datum['replies']) * 100 \n",
    "\n",
    "tempData = data.drop([len(data)-1], axis=0) \n",
    "tempData['nah_ratio'] = 100 - tempData['ah_ratio']\n",
    "\n",
    "# plot a bar chart of hate percentages:\n",
    "plt.figure(figsize=(8,7))\n",
    "plt.bar(tempData['token'], tempData['ah_ratio'])\n",
    "plt.xlabel('Politician (World Powers)')\n",
    "plt.ylabel('Percentage of Received Hate in replies (%)')\n",
    "plt.show()\n",
    "        "
   ]
  },
  {
   "cell_type": "code",
   "execution_count": 4,
   "metadata": {},
   "outputs": [
    {
     "data": {
      "image/png": "[encoded data removed]",
      "text/plain": [
       "<Figure size 576x504 with 1 Axes>"
      ]
     },
     "metadata": {
      "needs_background": "light"
     },
     "output_type": "display_data"
    }
   ],
   "source": [
    "# real impression plot:\n",
    "plt.figure(figsize=(8,7))\n",
    "plt.bar(tempData['token'], tempData['ah_ratio'], color='#de453d')\n",
    "plt.bar(tempData['token'], tempData['nah_ratio'], bottom=tempData['ah_ratio'], color='#68e563')\n",
    "plt.xlabel('Politician (World Powers)')\n",
    "plt.ylabel('Percentage of Received Hate in replies (%)')\n",
    "plt.ylim(0, 100)\n",
    "plt.show()"
   ]
  },
  {
   "cell_type": "markdown",
   "metadata": {},
   "source": [
    "## B- Hate Share:\n",
    "\n",
    "Which politician received more hate in a fraction of Twitter Stream"
   ]
  },
  {
   "cell_type": "code",
   "execution_count": 5,
   "metadata": {},
   "outputs": [
    {
     "data": {
      "image/png": "[encoded data removed]",
      "text/plain": [
       "<Figure size 432x288 with 1 Axes>"
      ]
     },
     "metadata": {},
     "output_type": "display_data"
    }
   ],
   "source": [
    "total = data['auto_hate'].sum()\n",
    "\n",
    "for position, datum in data.iterrows():\n",
    "    if 0 == datum['replies']:\n",
    "        data.loc[position, 'hate_ratio'] = 0\n",
    "    else:    \n",
    "        data.loc[position, 'hate_ratio'] = (datum['auto_hate']/total) * 100 \n",
    "\n",
    "tempData = data.drop([len(data)-1], axis=0) \n",
    "\n",
    "#plot as pie\n",
    "\n",
    "fig1, ax1 = plt.subplots()\n",
    "ax1.pie(tempData['hate_ratio'],  labels=tempData['token'], autopct='%1.1f%%',\n",
    "        shadow=True, startangle=90,)\n",
    "ax1.axis('equal')  # Equal aspect ratio ensures that pie is drawn as a circle.\n",
    "\n",
    "plt.show()"
   ]
  },
  {
   "cell_type": "markdown",
   "metadata": {},
   "source": [
    "### C- Location-based Hate:\n",
    "\n",
    "\n",
    "We divided cases of hate speech into 2 categories of in USA and out of USA. It is worth mentioning that because of data protection policies it is possible to hide or change geographical description of the twitter account. \n",
    "\n",
    "Regardless, we are comparing the fraction of hate speech `Mr. Donald Trump` has received from user_locations that are inside USA and out of USA.\n",
    "\n",
    "Our decision is based on the following:\n",
    "\n",
    "is_usa is true when: `USA`, `U.S.A.`, `United States` and state codes: ` ('AL','AK','AZ','AR','CA','CO','CT','DE','FL','GA','HI','ID','IL','IN','IA','KS','KY','LA','ME','MD','MA','MI','MN','MS','MO','MT','NE','NV','NH','NJ','NM','NY','NC','ND','OH','OK','OR,PA','RI','SC','SD','TN','TX','UT','VT','VA','WA','WV','WI','WY')`"
   ]
  },
  {
   "cell_type": "code",
   "execution_count": 6,
   "metadata": {},
   "outputs": [],
   "source": [
    "locations = {'h_in': 0, 'total_in': 0, 'h_out': 0, 'total_out': 0}\n",
    "is_usa = ['USA', 'U.S.A.', 'United States', \n",
    "          'AL','AK','AZ','AR','CA','CO','CT','DE','FL','GA','HI','ID','IL','IN','IA',\n",
    "          'KS','KY','LA','ME','MD','MA','MI','MN','MS','MO','MT','NE','NV','NH','NJ',\n",
    "          'NM','NY','NC','ND','OH','OK','OR,PA','RI','SC','SD','TN','TX','UT','VT','VA','WA','WV','WI','WY']\n",
    "\n",
    "# just grab Donald Trump:\n",
    "for index, element in tweets.iterrows():\n",
    "    vote = str(element['vote'])\n",
    "    found = []\n",
    "    if 'nan' == vote:\n",
    "        continue\n",
    "    if '0.0' != vote: \n",
    "        # detected politicians:\n",
    "        politicians = element['matches'].split(\"####\")\n",
    "        for politician in politicians:\n",
    "            for position, datum in data.iterrows():\n",
    "                if politician.startswith(datum['token']):\n",
    "                    if politician in found:\n",
    "                        continue\n",
    "                    # only trump is considered here\n",
    "                    if 'Donald_Trump' != datum['token']:\n",
    "                        continue\n",
    "                    # we do not want to repeat a politician many times    \n",
    "                    found.append(datum['token'])\n",
    "                    tempest_replies = replies.loc[replies['tweet_id'] == element['tweet_id']]\n",
    "                    for pos, tempest_reply in tempest_replies.iterrows():\n",
    "                        checker = False\n",
    "                        was_hate = False\n",
    "                        if 1 == tempest_reply['automatic']:\n",
    "                            was_hate = True\n",
    "                        \n",
    "                        for locality in is_usa:\n",
    "                            my_location = str(tempest_reply['user_location'])\n",
    "                            if locality in my_location:\n",
    "                                locations['total_in'] = locations['total_in'] + 1\n",
    "                                if was_hate:\n",
    "                                    locations['h_in'] = locations['h_in'] + 1\n",
    "                                checker = True\n",
    "                                break\n",
    "                        if not checker: \n",
    "                            locations['total_out'] = locations['total_out'] + 1\n",
    "                            if was_hate:\n",
    "                                locations['h_out'] = locations['h_out'] + 1\n",
    "                    break"
   ]
  },
  {
   "cell_type": "code",
   "execution_count": 7,
   "metadata": {},
   "outputs": [
    {
     "name": "stdout",
     "output_type": "stream",
     "text": [
      "{'h_in': 64, 'total_in': 1191, 'h_out': 143, 'total_out': 2743}\n"
     ]
    }
   ],
   "source": [
    "print (locations)"
   ]
  },
  {
   "cell_type": "markdown",
   "metadata": {},
   "source": [
    "### D - Share of Donald Trump's replies "
   ]
  },
  {
   "cell_type": "code",
   "execution_count": 8,
   "metadata": {},
   "outputs": [
    {
     "data": {
      "image/png": "[encoded data removed]",
      "text/plain": [
       "<Figure size 432x288 with 1 Axes>"
      ]
     },
     "metadata": {},
     "output_type": "display_data"
    }
   ],
   "source": [
    "#plot as pie\n",
    "fig1, ax1 = plt.subplots()\n",
    "ax1.pie([locations['total_in'], locations['total_out']],  labels=['In USA', 'Out USA'], autopct='%1.1f%%',\n",
    "        shadow=True, startangle=90,)\n",
    "ax1.axis('equal')\n",
    "\n",
    "plt.show()"
   ]
  },
  {
   "cell_type": "markdown",
   "metadata": {},
   "source": [
    "### Comparing Hatred in US and out of US\n",
    "\n",
    "Trump is hated equally inside and outside of USA."
   ]
  },
  {
   "cell_type": "code",
   "execution_count": 9,
   "metadata": {},
   "outputs": [
    {
     "data": {
      "image/png": "[encoded data removed]",
      "text/plain": [
       "<Figure size 576x504 with 1 Axes>"
      ]
     },
     "metadata": {
      "needs_background": "light"
     },
     "output_type": "display_data"
    }
   ],
   "source": [
    "in_usa_percentage = (locations['h_in']/locations['total_in']) * 100\n",
    "out_usa_percentage = (locations['h_out']/locations['total_out']) * 100\n",
    "\n",
    "plt.figure(figsize=(8,7))\n",
    "plt.bar(['In USA', 'Out USA'], [in_usa_percentage, out_usa_percentage], color='#de453d')\n",
    "# plt.bar(tempData['token'], tempData['nah_ratio'], bottom=tempData['ah_ratio'], color='#68e563')\n",
    "plt.xlabel('Location of Users')\n",
    "plt.ylabel('Percentage of Received Hate (%)')\n",
    "plt.show()"
   ]
  },
  {
   "cell_type": "markdown",
   "metadata": {},
   "source": [
    "### Known Challenges or issues:\n",
    "\n",
    "\n",
    "- Accuracy of hatespeech and face recognition algorithms.\n",
    "\n",
    "\n",
    "- Collecting replies to a comment is very time consuming.\n",
    "\n",
    "\n",
    "- Detecting replies that come in GIFs or image memes.\n",
    "\n",
    "\n",
    "- Considering unique users behind the comments. Wegihting comments based on number of followers and detecting whom hate speech is actually targetting.\n",
    "\n",
    "\n",
    "- Maybe politicians are not hated this much and it is just the very short time span that we have monitored Twitter.\n",
    "\n",
    "- One tweet may include multiple politicians at once. (and more strangely one politician multiple times)\n",
    "\n",
    "\n",
    "- Confirmation Bias exists."
   ]
  }
 ],
 "metadata": {
  "kernelspec": {
   "display_name": "Python 3",
   "language": "python",
   "name": "python3"
  },
  "language_info": {
   "codemirror_mode": {
    "name": "ipython",
    "version": 3
   },
   "file_extension": ".py",
   "mimetype": "text/x-python",
   "name": "python",
   "nbconvert_exporter": "python",
   "pygments_lexer": "ipython3",
   "version": "3.6.8"
  },
  "pycharm": {
   "stem_cell": {
    "cell_type": "raw",
    "metadata": {
     "collapsed": false
    },
    "source": []
   }
  }
 },
 "nbformat": 4,
 "nbformat_minor": 1
}

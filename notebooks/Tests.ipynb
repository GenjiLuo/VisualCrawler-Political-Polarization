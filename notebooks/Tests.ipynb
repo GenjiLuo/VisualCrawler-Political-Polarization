{
 "cells": [
  {
   "cell_type": "code",
   "execution_count": 1,
   "metadata": {},
   "outputs": [],
   "source": [
    "import os\n",
    "import sys\n",
    "import pandas as pd\n",
    "import yaml\n",
    "import matplotlib.pyplot as plt\n",
    "\n",
    "parameters = {}\n",
    "with open(\"../parameters.yml\", 'r') as stream:\n",
    "    try:\n",
    "        parameters = yaml.safe_load(stream)\n",
    "    except yaml.YAMLError as exc:\n",
    "        print(exc)\n",
    "\n",
    "csvFile = '../src/data/processed/' + parameters['parsed_file']\n",
    "tweets = pd.read_csv(csvFile, sep=',')\n",
    "\n",
    "\n",
    "repliesCsvFile = '../src/data/processed/' + parameters['reply_file']\n",
    "replies = pd.read_csv(repliesCsvFile, sep=',')\n",
    "\n",
    "dataCsvFile = '../src/data/classes/' + parameters['class_name'] + '/' + 'index.csv'\n",
    "data = pd.read_csv(dataCsvFile, sep='\\t')\n",
    "data = data.append({'name': 'other', 'token': 'other', 'tags': ''}, ignore_index=True)\n"
   ]
  },
  {
   "cell_type": "markdown",
   "metadata": {},
   "source": [
    "### - Topic based approach"
   ]
  },
  {
   "cell_type": "code",
   "execution_count": 12,
   "metadata": {},
   "outputs": [
    {
     "name": "stdout",
     "output_type": "stream",
     "text": [
      "{'t_hate': 3, 't_all': 14, 'h_hate': 0, 'h_all': 5, 'g_hate': 2, 'g_all': 14}\n"
     ]
    }
   ],
   "source": [
    "processed = {\n",
    "    't_hate': 0, 't_all': 0,  # trump's hate\n",
    "    'h_hate': 0, 'h_all': 0, # hurricane hate\n",
    "    'g_hate': 0, 'g_all': 0 # general hate\n",
    "}\n",
    "\n",
    "hurricaneTags = ['Dorian', 'Bhamas', 'Hurricane', 'Carolina', 'Alabama']\n",
    "\n",
    "for index, element in tweets.iterrows():\n",
    "    vote = str(element['vote'])\n",
    "    found = []\n",
    "    if 'nan' == vote:\n",
    "        continue\n",
    "    if '0.0' != vote: \n",
    "        # detected politicians:\n",
    "        politicians = element['matches'].split(\"####\")\n",
    "        for politician in politicians:\n",
    "            for position, datum in data.iterrows():\n",
    "                if politician.startswith(datum['token']):\n",
    "                    if politician in found:\n",
    "                        continue\n",
    "                    found.append(politician)\n",
    "                    # check replies\n",
    "                    tempest_replies = replies.loc[replies['tweet_id'] == element['tweet_id']]\n",
    "                    # check hates\n",
    "                    tempest_hate = tempest_replies.loc[tempest_replies['automatic'] == 1]\n",
    "                    if 'Donald_Trump' == datum['token']:\n",
    "                        processed['t_hate'] = processed['t_hate'] + len(tempest_hate)\n",
    "                        processed['t_all'] = processed['t_all'] + len(tempest_hate)\n",
    "\n",
    "                        \n",
    "for index, element in replies.iterrows():\n",
    "    is_general = True \n",
    "    if 'Trump' in element['text']:\n",
    "        is_general = False\n",
    "        processed['t_all'] = processed['t_all'] + 1\n",
    "        if element['automatic'] == 1:\n",
    "            processed['t_hate'] = processed['t_hate'] + 1     \n",
    "    for hurricaneTag in hurricaneTags:\n",
    "        if 'Hurricane' in element['text']:\n",
    "            is_general = False\n",
    "            processed['h_all'] = processed['h_all'] + 1\n",
    "            if element['automatic'] == 1:\n",
    "                processed['h_hate'] = processed['h_hate'] + 1     \n",
    "    if not is_general:\n",
    "        processed['g_all'] = processed['g_all'] + 1\n",
    "        if element['automatic'] == 1:\n",
    "            processed['g_hate'] = processed['g_hate'] + 1     \n",
    "    \n",
    "print(processed)                    "
   ]
  },
  {
   "cell_type": "code",
   "execution_count": 16,
   "metadata": {},
   "outputs": [
    {
     "data": {
      "image/png": "[encoded data removed]",
      "text/plain": [
       "<Figure size 576x504 with 1 Axes>"
      ]
     },
     "metadata": {
      "needs_background": "light"
     },
     "output_type": "display_data"
    }
   ],
   "source": [
    "percentages = [0, 0 , 0];\n",
    "negativePercentages = [100, 100 , 100];\n",
    "titles = ['Trump', 'Hurricane', 'General']\n",
    "percentages[0] = processed['t_hate'] * 100 / processed['t_all']\n",
    "negativePercentages[0] = negativePercentages[0] - percentages[0]\n",
    "percentages[1] = processed['h_hate'] * 100 / processed['h_all']\n",
    "negativePercentages[1] = negativePercentages[1] - percentages[1]\n",
    "percentages[2] = processed['g_hate'] * 100 / processed['g_all']\n",
    "negativePercentages[2] = negativePercentages[2] - percentages[2]\n",
    "\n",
    "# Hate distribtion:\n",
    "plt.figure(figsize=(8,7))\n",
    "plt.bar(titles, percentages, color='#de453d')\n",
    "plt.bar(titles, negativePercentages, bottom=percentages, color='#68e563')\n",
    "plt.xlabel('Dimentions')\n",
    "plt.ylabel('Percentage of Received Hate in replies (%)')\n",
    "plt.ylim(0, 100)\n",
    "plt.show()\n"
   ]
  }
 ],
 "metadata": {
  "kernelspec": {
   "display_name": "Python 3",
   "language": "python",
   "name": "python3"
  },
  "language_info": {
   "codemirror_mode": {
    "name": "ipython",
    "version": 3
   },
   "file_extension": ".py",
   "mimetype": "text/x-python",
   "name": "python",
   "nbconvert_exporter": "python",
   "pygments_lexer": "ipython3",
   "version": "3.6.8"
  }
 },
 "nbformat": 4,
 "nbformat_minor": 1
}
